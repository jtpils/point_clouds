{
 "cells": [
  {
   "cell_type": "code",
   "execution_count": 1,
   "metadata": {
    "ExecuteTime": {
     "end_time": "2019-12-04T20:25:46.629872Z",
     "start_time": "2019-12-04T20:25:45.112438Z"
    }
   },
   "outputs": [],
   "source": [
    "import os\n",
    "import time\n",
    "import shutil\n",
    "import math\n",
    "import random\n",
    "\n",
    "import numpy as np\n",
    "import open3d as o3\n",
    "import matplotlib.pyplot as plt\n",
    "import torch\n",
    "import torch.nn as nn\n",
    "import torch.nn.functional as F\n",
    "import torch.utils.data as data\n",
    "import torchvision.transforms.functional as T\n",
    "import imageio\n",
    "\n",
    "from PIL import Image\n",
    "from scipy.io import loadmat\n",
    "from scipy.spatial.transform import Rotation\n",
    "from mpl_toolkits.mplot3d import Axes3D\n",
    "\n",
    "from pathlib import Path\n",
    "from typing import Callable, Optional\n",
    "from torchvision import transforms\n",
    "from torchvision.utils import make_grid\n",
    "from tqdm import tqdm_notebook"
   ]
  },
  {
   "cell_type": "markdown",
   "metadata": {},
   "source": [
    "## Projection"
   ]
  },
  {
   "cell_type": "markdown",
   "metadata": {},
   "source": [
    "Quaternion functions:"
   ]
  },
  {
   "cell_type": "code",
   "execution_count": 2,
   "metadata": {
    "ExecuteTime": {
     "end_time": "2019-12-04T20:25:48.535356Z",
     "start_time": "2019-12-04T20:25:48.514779Z"
    }
   },
   "outputs": [],
   "source": [
    "def points2quat(v):\n",
    "    \"Convert xyz points to quaternions\"\n",
    "    assert len(v.shape) == 3\n",
    "    assert v.size(-1) == 3\n",
    "    return F.pad(v, (1, 0, 0, 0))\n",
    "\n",
    "def quatmul(q1, q2):\n",
    "    \"Multiply quaternions\"\n",
    "    w1, x1, y1, z1 = torch.unbind(q1, dim=-1)\n",
    "    w2, x2, y2, z2 = torch.unbind(q2, dim=-1)\n",
    "\n",
    "    w = w1 * w2 - x1 * x2 - y1 * y2 - z1 * z2\n",
    "    x = w1 * x2 + x1 * w2 + y1 * z2 - z1 * y2\n",
    "    y = w1 * y2 + y1 * w2 + z1 * x2 - x1 * z2\n",
    "    z = w1 * z2 + z1 * w2 + x1 * y2 - y1 * x2\n",
    "    return torch.stack([w, x, y, z], dim=-1)\n",
    "\n",
    "def quatconj(q):\n",
    "    \"Conjugate of quaternion\"\n",
    "    m = q.new(4).fill_(-1)\n",
    "    m[0] = 1.0\n",
    "    return q * m \n",
    "\n",
    "def quatrot(v, q, inverse=False):\n",
    "    \"Rotate points v [b, n, 3] with quaternions q [b, 4]\"\n",
    "    q = F.normalize(q, dim=-1)\n",
    "    q = q[:, None, :]\n",
    "    q_ = quatconj(q)\n",
    "    v = points2quat(v)\n",
    "\n",
    "    if inverse:\n",
    "        wxyz = quatmul(quatmul(q_, v), q)\n",
    "    else:\n",
    "        wxyz = quatmul(quatmul(q, v), q_)\n",
    "        \n",
    "    if len(wxyz.shape) == 2:\n",
    "        wxyz = wxyz.unsqueeze(0)\n",
    "\n",
    "    return wxyz[:, :, 1:4]"
   ]
  },
  {
   "cell_type": "code",
   "execution_count": 3,
   "metadata": {
    "ExecuteTime": {
     "end_time": "2019-12-04T20:25:49.869385Z",
     "start_time": "2019-12-04T20:25:49.860551Z"
    }
   },
   "outputs": [],
   "source": [
    "def pc_camera_transform(pc, rotation, focal_lenght=1.875, camera_distance=2.0):\n",
    "    \"Transform pontcloud `pc` to camera coordinates with `rotation`\"\n",
    "    \n",
    "    pc = quatrot(pc, rotation)\n",
    "    zs, ys, xs = torch.unbind(pc, dim=2)\n",
    "    \n",
    "    xs = xs * focal_lenght / (zs + camera_distance)\n",
    "    ys = ys * focal_lenght / (zs + camera_distance)\n",
    "    \n",
    "    return torch.stack([zs, ys, xs], dim=2)"
   ]
  },
  {
   "cell_type": "code",
   "execution_count": 4,
   "metadata": {
    "ExecuteTime": {
     "end_time": "2019-12-04T20:25:50.047724Z",
     "start_time": "2019-12-04T20:25:50.029080Z"
    }
   },
   "outputs": [],
   "source": [
    "def pc_voxels(pc, size=64, eps=1e-6):\n",
    "    \"Create voxels of `[size]*3` from pointcloud `pc`\"\n",
    "    # save for later\n",
    "    vox_size = pc.new(3).fill_(size)\n",
    "    bs = pc.size(0)\n",
    "    n = pc.size(1)\n",
    "    \n",
    "    # check borders\n",
    "    valid = ((pc < 0.5 - eps) & (pc > -0.5 + eps)).all(dim=-1).view(-1)\n",
    "    grid = (pc + 0.5) * (vox_size - 1)\n",
    "    grid_floor = grid.floor()\n",
    "\n",
    "    grid_idxs = grid_floor.long()\n",
    "    batch_idxs = torch.arange(bs)[:, None, None].repeat(1, n, 1).to(pc.device)\n",
    "    # idxs of form [batch, z, y, x] where z, y, x discretized indecies in voxel\n",
    "    idxs = torch.cat([batch_idxs, grid_idxs], dim=-1).view(-1, 4)\n",
    "    idxs = idxs[valid]\n",
    "\n",
    "    # trilinear interpolation\n",
    "    r = grid - grid_floor\n",
    "    rr = [1. - r, r]\n",
    "    voxels = []\n",
    "\n",
    "    def trilinear_interp(pos):\n",
    "        update = rr[pos[0]][..., 0] * rr[pos[1]][..., 1] * rr[pos[2]][..., 2]\n",
    "        update = update.view(-1)[valid]\n",
    "        \n",
    "        shift_idxs = torch.LongTensor([[0] + pos]).to(pc.device)\n",
    "        shift_idxs = shift_idxs.repeat(idxs.size(0), 1)\n",
    "        update_idxs = idxs + shift_idxs\n",
    "        valid_shift = update_idxs < size\n",
    "\n",
    "        voxels = pc.new(bs, size, size, size).fill_(0)\n",
    "        voxels.index_put_(torch.unbind(update_idxs, dim=1), update, accumulate=True)\n",
    "\n",
    "        return voxels\n",
    "        \n",
    "    \n",
    "    for k in range(2):\n",
    "        for j in range(2):\n",
    "            for i in range(2):\n",
    "                voxels.append(trilinear_interp([k, j, i]))\n",
    "    \n",
    "    return torch.stack(voxels).sum(dim=0).clamp(0, 1)"
   ]
  },
  {
   "cell_type": "code",
   "execution_count": 5,
   "metadata": {
    "ExecuteTime": {
     "end_time": "2019-12-04T20:25:51.253555Z",
     "start_time": "2019-12-04T20:25:51.236182Z"
    }
   },
   "outputs": [],
   "source": [
    "def smoothing_kernel(sigma, kernel_size=21):\n",
    "    \"Generate 3 separate gaussian kernels with `sigma` stddev\"\n",
    "    x = torch.arange(-kernel_size//2 + 1., kernel_size//2 + 1., device=sigma.device)\n",
    "    kernel_1d = torch.exp(-x**2 / (2. * sigma**2))\n",
    "    kernel_1d = kernel_1d / kernel_1d.sum()\n",
    "\n",
    "    k1 = kernel_1d.view(1, 1, 1, 1, -1)\n",
    "    k2 = kernel_1d.view(1, 1, 1, -1, 1)\n",
    "    k3 = kernel_1d.view(1, 1, -1, 1, 1)\n",
    "    return [k1, k2, k3]\n",
    "\n",
    "def voxels_smooth(voxels, kernels, scale=None):\n",
    "    \"Apply gaussian blur to voxels with separable `kernels` then `scale`\"\n",
    "    assert isinstance(kernels, list)\n",
    "    \n",
    "    # add fake channel for convs\n",
    "    voxels = voxels.unsqueeze(1)\n",
    "\n",
    "    for k in kernels:\n",
    "        # add padding for kernel dimension\n",
    "        padding = [0] * 3\n",
    "        padding[np.argmax(k.shape) - 2] = max(k.shape) // 2\n",
    "\n",
    "        voxels = F.conv3d(voxels, k, stride=1, padding=padding)\n",
    "    \n",
    "    voxels = voxels.squeeze(1)\n",
    "\n",
    "    if scale is not None:\n",
    "        voxels = voxels * scale.view(-1, 1, 1, 1)\n",
    "        voxels = voxels.clamp(0, 1)\n",
    "\n",
    "    return voxels"
   ]
  },
  {
   "cell_type": "code",
   "execution_count": 6,
   "metadata": {
    "ExecuteTime": {
     "end_time": "2019-12-04T20:25:51.501540Z",
     "start_time": "2019-12-04T20:25:51.491370Z"
    }
   },
   "outputs": [],
   "source": [
    "def drc_prob(voxels, clip_val=1e-5):\n",
    "    \"Compute termination probabilities from part 4 https://arxiv.org/pdf/1810.09381.pdf\"\n",
    "    inp = voxels.permute(1, 0, 2, 3)\n",
    "    inp = inp.clamp(clip_val, 1.0 - clip_val)\n",
    "    zero = voxels.new(1, inp.size(1), inp.size(2), inp.size(3)).fill_(clip_val)\n",
    "\n",
    "    y = torch.log(inp)\n",
    "    x = torch.log(1 - inp)\n",
    "\n",
    "    r = torch.cumsum(x, dim=0)\n",
    "    p1 = torch.cat([zero, r], dim=0)\n",
    "    p2 = torch.cat([y, zero], dim=0)\n",
    "\n",
    "    p = p1 + p2\n",
    "    return torch.exp(p).permute(1, 0, 2, 3)"
   ]
  },
  {
   "cell_type": "code",
   "execution_count": 7,
   "metadata": {
    "ExecuteTime": {
     "end_time": "2019-12-04T20:25:53.131211Z",
     "start_time": "2019-12-04T20:25:53.117312Z"
    }
   },
   "outputs": [],
   "source": [
    "class Projection(nn.Module):\n",
    "    \"Diffefentiable point cloud projection module\"\n",
    "    def __init__(self, vox_size=64, smooth_ks=21, smooth_sigma=3.0):\n",
    "        super().__init__()\n",
    "        self.vox_size = vox_size\n",
    "        self.ks = smooth_ks\n",
    "        self.register_buffer('sigma', torch.tensor(smooth_sigma))\n",
    "\n",
    "    def forward(self, pc, rotation, scale=None):\n",
    "        \"Project points `pc` to camera givne by `transform`\"\n",
    "        pc = pc_camera_transform(pc, rotation)\n",
    "        voxels = pc_voxels(pc, self.vox_size)\n",
    "        smooth = voxels_smooth(voxels, kernels=smoothing_kernel(self.sigma, self.ks), scale=scale)\n",
    "        prob = drc_prob(smooth)\n",
    "        proj = prob[:, :-1].sum(1).flip(1)\n",
    "        \n",
    "        return proj"
   ]
  },
  {
   "cell_type": "code",
   "execution_count": 8,
   "metadata": {
    "ExecuteTime": {
     "end_time": "2019-12-04T20:25:53.291015Z",
     "start_time": "2019-12-04T20:25:53.287218Z"
    }
   },
   "outputs": [],
   "source": [
    "p = Projection(smooth_sigma=0.5)"
   ]
  },
  {
   "cell_type": "code",
   "execution_count": 9,
   "metadata": {
    "ExecuteTime": {
     "end_time": "2019-12-04T20:25:54.431537Z",
     "start_time": "2019-12-04T20:25:54.426577Z"
    }
   },
   "outputs": [],
   "source": [
    "# plt.imshow(p(points_t.repeat(3, 1, 1), camera_t.repeat(3, 1), torch.tensor([0.5, 1, 10]))[2]);"
   ]
  },
  {
   "cell_type": "code",
   "execution_count": 10,
   "metadata": {
    "ExecuteTime": {
     "end_time": "2019-12-04T20:25:54.934523Z",
     "start_time": "2019-12-04T20:25:54.924409Z"
    }
   },
   "outputs": [],
   "source": [
    "class PointCloudDropout(nn.Module):\n",
    "    \"Drop random portions of pointclouds `pc`\"\n",
    "    def __init__(self, keep_prob=0.1):\n",
    "        super().__init__()\n",
    "        self.keep_prob = keep_prob\n",
    "        \n",
    "    def forward(self, pc):\n",
    "        bs, n_points = pc.size(0), pc.size(1)\n",
    "        n_keep = math.ceil(n_points * self.keep_prob)\n",
    "\n",
    "        batch_idxs = repeat_tensor_batch(torch.arange(bs), n_keep)\n",
    "        point_idxs = torch.cat([torch.randperm(n_points)[:n_keep] for i in range(bs)])\n",
    "\n",
    "        return pc[batch_idxs, point_idxs].view(bs, n_keep, -1)"
   ]
  },
  {
   "cell_type": "markdown",
   "metadata": {
    "heading_collapsed": true
   },
   "source": [
    "### Test"
   ]
  },
  {
   "cell_type": "code",
   "execution_count": 11,
   "metadata": {
    "ExecuteTime": {
     "end_time": "2019-12-04T20:26:01.628104Z",
     "start_time": "2019-12-04T20:26:01.621712Z"
    },
    "hidden": true
   },
   "outputs": [],
   "source": [
    "pc = torch.rand(10, 10, 3)"
   ]
  },
  {
   "cell_type": "code",
   "execution_count": 12,
   "metadata": {
    "ExecuteTime": {
     "end_time": "2019-12-04T20:26:01.818971Z",
     "start_time": "2019-12-04T20:26:01.804618Z"
    },
    "hidden": true
   },
   "outputs": [
    {
     "data": {
      "text/plain": [
       "tensor([[0.8016, 0.3937, 0.5869],\n",
       "        [0.9904, 0.5714, 0.5151],\n",
       "        [0.8951, 0.3505, 0.0638],\n",
       "        [0.3532, 0.9637, 0.4313],\n",
       "        [0.3508, 0.2330, 0.5721],\n",
       "        [0.2510, 0.5082, 0.5600],\n",
       "        [0.0383, 0.7441, 0.0246],\n",
       "        [0.4372, 0.4954, 0.2316],\n",
       "        [0.5616, 0.0978, 0.2810],\n",
       "        [0.1153, 0.6881, 0.5294]])"
      ]
     },
     "execution_count": 12,
     "metadata": {},
     "output_type": "execute_result"
    }
   ],
   "source": [
    "pc[0]"
   ]
  },
  {
   "cell_type": "markdown",
   "metadata": {},
   "source": [
    "## Basic model blocks (with camera supervision)"
   ]
  },
  {
   "cell_type": "code",
   "execution_count": 14,
   "metadata": {
    "ExecuteTime": {
     "end_time": "2019-12-04T20:26:08.479127Z",
     "start_time": "2019-12-04T20:26:08.462451Z"
    }
   },
   "outputs": [],
   "source": [
    "def conv_block(in_ch, out_ch, ks=3, stride=1, padding=1, bn=False, act=True):\n",
    "    return nn.Sequential(\n",
    "        nn.Conv2d(in_ch, out_ch, ks, stride, padding, bias=not bn),\n",
    "        nn.ReLU(True) if act else nn.Identity(),\n",
    "        nn.BatchNorm2d(out_ch) if bn else nn.Identity(),\n",
    "    )\n",
    "\n",
    "def weight_init(m):\n",
    "    if isinstance(m, (nn.Conv2d, nn.Linear)):\n",
    "        nn.init.kaiming_normal_(m.weight.data, a=0)\n",
    "\n",
    "\n",
    "class Encoder(nn.Module):\n",
    "    \"Encodes input images\"\n",
    "    def __init__(self, img_size, hidden_dim):\n",
    "        super().__init__()\n",
    "        self.convs = nn.Sequential(                       \n",
    "            conv_block(3, 16, ks=5, stride=2, padding=2),  \n",
    "            conv_block(16, 16, ks=3, stride=2),            \n",
    "            conv_block(16, 16, ks=3, stride=1),          \n",
    "            conv_block(16, 16, ks=3, stride=2),           \n",
    "            conv_block(16, 16, ks=3, stride=1),\n",
    "            conv_block(16, 16, ks=3, stride=2),           \n",
    "            conv_block(16, 16, ks=3, stride=1),\n",
    "            conv_block(16, 16, ks=3, stride=2),          \n",
    "            conv_block(16, 16, ks=3, stride=1),\n",
    "        )\n",
    "        \n",
    "        self.features = nn.Sequential(\n",
    "            nn.Flatten(),\n",
    "            nn.Linear(16 * 16, 1024),\n",
    "            nn.ReLU(True),\n",
    "            # nn.BatchNorm1d(1024),\n",
    "            nn.Linear(1024, 1024),\n",
    "        )\n",
    "\n",
    "    def forward(self, img):\n",
    "        conv_features = self.convs(img)\n",
    "        features = self.features(conv_features)\n",
    "        \n",
    "        return features"
   ]
  },
  {
   "cell_type": "code",
   "execution_count": 15,
   "metadata": {
    "ExecuteTime": {
     "end_time": "2019-12-04T20:26:09.567776Z",
     "start_time": "2019-12-04T20:26:09.558055Z"
    }
   },
   "outputs": [],
   "source": [
    "class Decoder(nn.Module):\n",
    "    def __init__(self, hidden_dim, num_points, predict_scale=True):\n",
    "        super().__init__()\n",
    "        self.num_points = num_points\n",
    "        self.predict_scale = predict_scale\n",
    "        self.pc_decoder = nn.Sequential(\n",
    "            nn.Linear(hidden_dim, hidden_dim, bias=False),\n",
    "            nn.ReLU(True),\n",
    "            nn.BatchNorm1d(hidden_dim),\n",
    "            nn.Linear(hidden_dim, num_points * 3),\n",
    "        )\n",
    "        \n",
    "        self.scale_decoder = nn.Linear(hidden_dim, 1)\n",
    "        \n",
    "    def forward(self, z):\n",
    "        \"Transform hidden vector to pointcloud\"\n",
    "        # predict pointcloud\n",
    "        pc = self.pc_decoder(z)\n",
    "        pc = pc.view(-1, self.num_points, 3)\n",
    "        pc = torch.tanh(pc) / 2.0\n",
    "\n",
    "        scale = None\n",
    "        if self.predict_scale:\n",
    "            scale = self.scale_decoder(z)\n",
    "            scale = torch.sigmoid(scale)\n",
    "\n",
    "        return pc, scale"
   ]
  },
  {
   "cell_type": "code",
   "execution_count": 16,
   "metadata": {
    "ExecuteTime": {
     "end_time": "2019-12-04T20:26:11.436788Z",
     "start_time": "2019-12-04T20:26:11.417872Z"
    }
   },
   "outputs": [],
   "source": [
    "def repeat_tensor_batch(tensor, times):\n",
    "    \"Repeat tensor `times` times for each element in batch\"\n",
    "    if tensor is None: return\n",
    "\n",
    "    data_shape = tensor.shape[1:]\n",
    "    repeats = [1, times] + [1] * len(data_shape)\n",
    "\n",
    "    expanded = tensor.unsqueeze(1).repeat(*repeats)\n",
    "    return expanded.view(-1, *data_shape)\n",
    "\n",
    "\n",
    "class SimpleModel(nn.Module):\n",
    "    \"Basic model\"\n",
    "    def __init__(\n",
    "        self, img_size=128, hidden_dim=1024, num_points=8000, \n",
    "        vox_size=64, smooth_sigma=3.0, predict_scale=True, keep_prob=0.1,\n",
    "    ):\n",
    "        super().__init__()\n",
    "        self.encoder = Encoder(img_size, hidden_dim)\n",
    "        self.decoder = Decoder(hidden_dim, num_points, predict_scale)\n",
    "        self.pc_dropout = PointCloudDropout(keep_prob)\n",
    "        self.pc_projection = Projection(vox_size, smooth_sigma=smooth_sigma)\n",
    "\n",
    "        self.encoder.apply(weight_init)\n",
    "        self.decoder.apply(weight_init)\n",
    "\n",
    "    def forward(self, imgs, cameras):\n",
    "        \"Generate new view of `imgs` from `cameras` using differentiable projection\"\n",
    "        num_views = cameras.size(0) // imgs.size(0)\n",
    "\n",
    "        # Point cloud generation\n",
    "        z = self.encoder(imgs)\n",
    "        pc, scale = self.decoder(z)\n",
    "\n",
    "        pc    = repeat_tensor_batch(self.pc_dropout(pc), num_views)\n",
    "        scale = repeat_tensor_batch(scale, num_views)\n",
    "        proj  = self.pc_projection(pc, cameras, scale)\n",
    "        \n",
    "        # store for visualizations and tests\n",
    "        self.pc   = pc.detach()\n",
    "        self.proj = proj.detach()\n",
    "\n",
    "        return proj"
   ]
  },
  {
   "cell_type": "markdown",
   "metadata": {
    "heading_collapsed": true
   },
   "source": [
    "### Tests"
   ]
  },
  {
   "cell_type": "code",
   "execution_count": 17,
   "metadata": {
    "ExecuteTime": {
     "end_time": "2019-12-04T20:26:14.144743Z",
     "start_time": "2019-12-04T20:26:14.127708Z"
    },
    "hidden": true
   },
   "outputs": [
    {
     "data": {
      "text/plain": [
       "tensor([[[7.0451, 1.5773],\n",
       "         [9.4161, 8.0631],\n",
       "         [3.9830, 2.5171],\n",
       "         [9.4450, 2.9773],\n",
       "         [5.0436, 5.8415]],\n",
       "\n",
       "        [[2.2411, 8.6125],\n",
       "         [5.4823, 1.5001],\n",
       "         [0.4438, 1.4560],\n",
       "         [0.8089, 4.8278],\n",
       "         [9.3225, 2.2402]]])"
      ]
     },
     "execution_count": 17,
     "metadata": {},
     "output_type": "execute_result"
    }
   ],
   "source": [
    "x = torch.rand(2, 5, 2) * 10\n",
    "x"
   ]
  },
  {
   "cell_type": "code",
   "execution_count": 18,
   "metadata": {
    "ExecuteTime": {
     "end_time": "2019-12-04T20:26:22.459435Z",
     "start_time": "2019-12-04T20:26:22.448684Z"
    },
    "hidden": true
   },
   "outputs": [
    {
     "data": {
      "text/plain": [
       "tensor([[[7.0451, 1.5773],\n",
       "         [9.4161, 8.0631],\n",
       "         [3.9830, 2.5171],\n",
       "         [9.4450, 2.9773],\n",
       "         [5.0436, 5.8415]],\n",
       "\n",
       "        [[7.0451, 1.5773],\n",
       "         [9.4161, 8.0631],\n",
       "         [3.9830, 2.5171],\n",
       "         [9.4450, 2.9773],\n",
       "         [5.0436, 5.8415]],\n",
       "\n",
       "        [[2.2411, 8.6125],\n",
       "         [5.4823, 1.5001],\n",
       "         [0.4438, 1.4560],\n",
       "         [0.8089, 4.8278],\n",
       "         [9.3225, 2.2402]],\n",
       "\n",
       "        [[2.2411, 8.6125],\n",
       "         [5.4823, 1.5001],\n",
       "         [0.4438, 1.4560],\n",
       "         [0.8089, 4.8278],\n",
       "         [9.3225, 2.2402]]])"
      ]
     },
     "execution_count": 18,
     "metadata": {},
     "output_type": "execute_result"
    }
   ],
   "source": [
    "repeat_tensor_batch(x, 2)"
   ]
  },
  {
   "cell_type": "markdown",
   "metadata": {},
   "source": [
    "## Datasets\n",
    "\n",
    "We use splits as authors. For now we use camera supervision so in addition to images we load camera positions as quaternions"
   ]
  },
  {
   "cell_type": "code",
   "execution_count": 19,
   "metadata": {
    "ExecuteTime": {
     "end_time": "2019-12-04T20:26:27.100007Z",
     "start_time": "2019-12-04T20:26:27.073852Z"
    }
   },
   "outputs": [],
   "source": [
    "def quat_from_campos(pos):\n",
    "    \"Convert blender camera format `pos` to torch tensor quaternion [w, x, y, z]\"\n",
    "    cx, cy, cz = pos[0]\n",
    "    camDist = math.sqrt(cx * cx + cy * cy + cz * cz)\n",
    "    cx = cx / camDist\n",
    "    cy = cy / camDist\n",
    "    cz = cz / camDist\n",
    "    t = math.sqrt(cx * cx + cy * cy)\n",
    "    tx = cx / t\n",
    "    ty = cy / t\n",
    "    yaw = math.acos(tx)\n",
    "    if ty > 0:\n",
    "        yaw = 2 * math.pi - yaw\n",
    "\n",
    "    roll = 0\n",
    "    pitch = math.asin(cz)\n",
    "    yaw = yaw + math.pi\n",
    "\n",
    "    quat = Rotation.from_euler(\"yzx\", [yaw, pitch, roll]).as_quat()\n",
    "    quat = np.r_[quat[-1], quat[:-1]]\n",
    "\n",
    "    return torch.tensor(quat.astype(np.float32))\n",
    "\n",
    "\n",
    "def get_models(shapenet_id=\"03001627\", split=\"train\"):\n",
    "    \"Read model paths from split file\"\n",
    "\n",
    "    assert split in (\"train\", \"valid\")\n",
    "    split = f\"{shapenet_id}.{split}\"\n",
    "    path = Path(shapenet_id)\n",
    "\n",
    "    with open(split) as models:\n",
    "        return [path/m.strip() for m in models]\n",
    "\n",
    "\n",
    "class Shapenet(data.Dataset):\n",
    "    \"Dataset with renders and camera views for shapenet category\"\n",
    "    def __init__(self, models, num_views=5):\n",
    "        assert 1 <= num_views <= 5\n",
    "\n",
    "        self.num_views = num_views\n",
    "        self.models = models\n",
    "\n",
    "    def __getitem__(self, idx):\n",
    "        model = self.models[idx]\n",
    "        images = []\n",
    "        masks = []\n",
    "        cameras = []\n",
    "\n",
    "        for name in sorted(os.listdir(model)):\n",
    "            if name.startswith(\"render\"):\n",
    "                o = np.array(Image.open(model/name))\n",
    "                mask = o[..., -1].astype(np.float32) / 255.\n",
    "                img = o[..., :-1].astype(np.float32) / 255.\n",
    "                \n",
    "                images.append(torch.tensor(img).permute(2, 0, 1))\n",
    "                masks.append(torch.tensor(mask))\n",
    "                \n",
    "            if name.startswith(\"camera\"):\n",
    "                camera = loadmat(model/name)\n",
    "                cameras.append(quat_from_campos(camera[\"pos\"]))\n",
    "        \n",
    "        images = torch.stack(images)\n",
    "        cameras = torch.stack(cameras)\n",
    "        masks = torch.stack(masks)\n",
    "\n",
    "        return images, cameras, masks\n",
    "    \n",
    "    def __len__(self):\n",
    "        return len(self.models)"
   ]
  },
  {
   "cell_type": "markdown",
   "metadata": {},
   "source": [
    "Load chairs if needed"
   ]
  },
  {
   "cell_type": "code",
   "execution_count": 22,
   "metadata": {
    "ExecuteTime": {
     "end_time": "2019-12-04T20:28:13.219152Z",
     "start_time": "2019-12-04T20:26:54.703108Z"
    }
   },
   "outputs": [
    {
     "name": "stdout",
     "output_type": "stream",
     "text": [
      "03001627-renders.ta 100%[===================>] 431.65M  4.31MB/s    in 78s     \n"
     ]
    }
   ],
   "source": [
    "!wget --quiet --show-progress \"https://datasets.d2.mpi-inf.mpg.de/unsupervised-shape-pose/03001627-renders.tar.gz\""
   ]
  },
  {
   "cell_type": "code",
   "execution_count": 24,
   "metadata": {
    "ExecuteTime": {
     "end_time": "2019-12-04T20:29:31.576906Z",
     "start_time": "2019-12-04T20:28:24.614958Z"
    }
   },
   "outputs": [],
   "source": [
    "!tar -xzf \"03001627-renders.tar.gz\""
   ]
  },
  {
   "cell_type": "code",
   "execution_count": 26,
   "metadata": {
    "ExecuteTime": {
     "end_time": "2019-12-04T20:29:42.135518Z",
     "start_time": "2019-12-04T20:29:41.991999Z"
    }
   },
   "outputs": [],
   "source": [
    "train_ds = Shapenet(get_models(split=\"train\"), num_views=5)\n",
    "valid_ds = Shapenet(get_models(split=\"valid\"), num_views=5)"
   ]
  },
  {
   "cell_type": "code",
   "execution_count": 27,
   "metadata": {
    "ExecuteTime": {
     "end_time": "2019-12-04T20:29:44.538043Z",
     "start_time": "2019-12-04T20:29:44.510124Z"
    }
   },
   "outputs": [],
   "source": [
    "def multi_view_collate(batch):\n",
    "    \"Prepare batch with 1 image and n_views masks and cameras per item\"\n",
    "    bs = len(batch)\n",
    "    n_views = batch[0][0].size(0)\n",
    "\n",
    "    idxs = torch.randint(0, n_views, size=(bs,))\n",
    "    imgs, cams, masks = zip(*[(img[i], cam, mask) for (img, cam, mask), i in zip(batch, idxs)])\n",
    "\n",
    "    imgs = torch.stack(imgs)\n",
    "    masks = torch.cat(masks, dim=0)\n",
    "    cams = torch.cat(cams, dim=0)\n",
    "\n",
    "    return imgs, cams, masks"
   ]
  },
  {
   "cell_type": "markdown",
   "metadata": {
    "heading_collapsed": true
   },
   "source": [
    "### Tests"
   ]
  },
  {
   "cell_type": "code",
   "execution_count": 20,
   "metadata": {
    "ExecuteTime": {
     "end_time": "2019-12-04T12:12:43.084041Z",
     "start_time": "2019-12-04T12:12:43.074841Z"
    },
    "hidden": true
   },
   "outputs": [],
   "source": [
    "train_dl = data.DataLoader(train_ds, batch_size=10, shuffle=True, collate_fn=multi_view_collate, drop_last=True)"
   ]
  },
  {
   "cell_type": "code",
   "execution_count": 21,
   "metadata": {
    "ExecuteTime": {
     "end_time": "2019-12-04T12:12:46.703998Z",
     "start_time": "2019-12-04T12:12:46.478601Z"
    },
    "hidden": true
   },
   "outputs": [],
   "source": [
    "imgs, cams, masks = next(iter(train_dl))"
   ]
  },
  {
   "cell_type": "code",
   "execution_count": 22,
   "metadata": {
    "ExecuteTime": {
     "end_time": "2019-12-04T12:10:07.606330Z",
     "start_time": "2019-12-04T12:10:07.593305Z"
    },
    "hidden": true
   },
   "outputs": [
    {
     "data": {
      "image/png": "[encoded data removed]",
      "text/plain": [
       "<PIL.Image.Image image mode=RGB size=128x128 at 0x7F9A56F949B0>"
      ]
     },
     "execution_count": 22,
     "metadata": {},
     "output_type": "execute_result"
    }
   ],
   "source": [
    "T.to_pil_image(imgs[0])"
   ]
  },
  {
   "cell_type": "code",
   "execution_count": 23,
   "metadata": {
    "ExecuteTime": {
     "end_time": "2019-12-04T12:10:23.695720Z",
     "start_time": "2019-12-04T12:10:23.684505Z"
    },
    "hidden": true,
    "scrolled": true
   },
   "outputs": [
    {
     "data": {
      "image/png": "[encoded data removed]",
      "text/plain": [
       "<PIL.Image.Image image mode=L size=128x128 at 0x7F9A56C8F0B8>"
      ]
     },
     "execution_count": 23,
     "metadata": {},
     "output_type": "execute_result"
    }
   ],
   "source": [
    "T.to_pil_image(masks[3])"
   ]
  },
  {
   "cell_type": "code",
   "execution_count": 29,
   "metadata": {
    "ExecuteTime": {
     "end_time": "2019-12-04T12:10:32.700371Z",
     "start_time": "2019-12-04T12:10:32.690642Z"
    },
    "hidden": true
   },
   "outputs": [
    {
     "data": {
      "text/plain": [
       "tensor([-0.5393, -0.1167, -0.8305,  0.0758])"
      ]
     },
     "execution_count": 29,
     "metadata": {},
     "output_type": "execute_result"
    }
   ],
   "source": [
    "cams[3]"
   ]
  },
  {
   "cell_type": "markdown",
   "metadata": {
    "hidden": true
   },
   "source": [
    "Test the model"
   ]
  },
  {
   "cell_type": "code",
   "execution_count": 36,
   "metadata": {
    "ExecuteTime": {
     "end_time": "2019-12-04T12:15:01.220922Z",
     "start_time": "2019-12-04T12:15:00.667593Z"
    },
    "hidden": true
   },
   "outputs": [],
   "source": [
    "model = SimpleModel(img_size=128, smooth_sigma=3.0)"
   ]
  },
  {
   "cell_type": "code",
   "execution_count": 38,
   "metadata": {
    "hidden": true
   },
   "outputs": [],
   "source": [
    "model.cuda();"
   ]
  },
  {
   "cell_type": "code",
   "execution_count": 40,
   "metadata": {
    "ExecuteTime": {
     "end_time": "2019-12-04T12:31:48.418361Z",
     "start_time": "2019-12-04T12:31:39.493404Z"
    },
    "hidden": true
   },
   "outputs": [
    {
     "name": "stdout",
     "output_type": "stream",
     "text": [
      "CPU times: user 400 ms, sys: 38.6 ms, total: 438 ms\n",
      "Wall time: 114 ms\n"
     ]
    }
   ],
   "source": [
    "%%time\n",
    "proj = model.forward(imgs.cuda(), cams.cuda())"
   ]
  },
  {
   "cell_type": "code",
   "execution_count": 41,
   "metadata": {
    "ExecuteTime": {
     "end_time": "2019-12-04T12:25:40.731481Z",
     "start_time": "2019-12-04T12:25:40.438903Z"
    },
    "hidden": true
   },
   "outputs": [
    {
     "data": {
      "image/png": "[encoded data removed]",
      "text/plain": [
       "<Figure size 432x288 with 1 Axes>"
      ]
     },
     "metadata": {
      "needs_background": "light"
     },
     "output_type": "display_data"
    }
   ],
   "source": [
    "plt.imshow(proj[4].detach().cpu());"
   ]
  },
  {
   "cell_type": "markdown",
   "metadata": {},
   "source": [
    "## Training"
   ]
  },
  {
   "cell_type": "markdown",
   "metadata": {},
   "source": [
    "Lets try to overfit one example and see what happens"
   ]
  },
  {
   "cell_type": "markdown",
   "metadata": {},
   "source": [
    "### Tests"
   ]
  },
  {
   "cell_type": "code",
   "execution_count": 29,
   "metadata": {
    "ExecuteTime": {
     "end_time": "2019-12-04T20:29:57.463413Z",
     "start_time": "2019-12-04T20:29:56.166058Z"
    }
   },
   "outputs": [],
   "source": [
    "train_ds = Shapenet(get_models(split=\"train\"), num_views=5)\n",
    "valid_ds = Shapenet(get_models(split=\"valid\"), num_views=5)\n",
    "train_dl = data.DataLoader(train_ds, batch_size=2, shuffle=False, collate_fn=multi_view_collate, drop_last=True)\n",
    "\n",
    "torch.random.manual_seed(10)\n",
    "model = SimpleModel(img_size=128, smooth_sigma=3.0)"
   ]
  },
  {
   "cell_type": "markdown",
   "metadata": {},
   "source": [
    "Load checkpoint"
   ]
  },
  {
   "cell_type": "code",
   "execution_count": 34,
   "metadata": {
    "ExecuteTime": {
     "end_time": "2019-12-04T20:31:01.519060Z",
     "start_time": "2019-12-04T20:31:01.107727Z"
    }
   },
   "outputs": [],
   "source": [
    "data = torch.load(open(\"model_54000.pth\", 'rb'), map_location=torch.device('cpu'))"
   ]
  },
  {
   "cell_type": "code",
   "execution_count": 79,
   "metadata": {
    "ExecuteTime": {
     "end_time": "2019-12-04T20:50:16.004880Z",
     "start_time": "2019-12-04T20:50:14.972917Z"
    }
   },
   "outputs": [],
   "source": [
    "model.load_state_dict(data['model']);"
   ]
  },
  {
   "cell_type": "code",
   "execution_count": 65,
   "metadata": {
    "ExecuteTime": {
     "end_time": "2019-12-04T20:33:50.643807Z",
     "start_time": "2019-12-04T20:33:50.614960Z"
    }
   },
   "outputs": [],
   "source": [
    "img, cam, mask = train_ds[9]"
   ]
  },
  {
   "cell_type": "code",
   "execution_count": 72,
   "metadata": {
    "ExecuteTime": {
     "end_time": "2019-12-04T20:35:01.824789Z",
     "start_time": "2019-12-04T20:35:01.801898Z"
    }
   },
   "outputs": [],
   "source": [
    "pc, scale = model.decoder(model.encoder.forward(img[1].unsqueeze(0)))"
   ]
  },
  {
   "cell_type": "code",
   "execution_count": 75,
   "metadata": {
    "ExecuteTime": {
     "end_time": "2019-12-04T20:35:14.646855Z",
     "start_time": "2019-12-04T20:35:14.626753Z"
    }
   },
   "outputs": [],
   "source": [
    "pc_np = pc.squeeze().detach().numpy()\n",
    "pcd = o3.PointCloud()\n",
    "pcd.points = o3.Vector3dVector(pc_np)"
   ]
  },
  {
   "cell_type": "code",
   "execution_count": 78,
   "metadata": {
    "ExecuteTime": {
     "end_time": "2019-12-04T20:37:18.996720Z",
     "start_time": "2019-12-04T20:37:18.714202Z"
    }
   },
   "outputs": [
    {
     "data": {
      "application/vnd.jupyter.widget-view+json": {
       "model_id": "b1f483800f8e41cc9e3789d4c47ef4b5",
       "version_major": 2,
       "version_minor": 0
      },
      "text/plain": [
       "JVisualizer with 1 geometries"
      ]
     },
     "metadata": {},
     "output_type": "display_data"
    }
   ],
   "source": [
    "vis = o3.JVisualizer()\n",
    "vis.add_geometry(pcd)\n",
    "vis.show()"
   ]
  },
  {
   "cell_type": "code",
   "execution_count": 66,
   "metadata": {
    "ExecuteTime": {
     "end_time": "2019-12-04T20:33:52.469836Z",
     "start_time": "2019-12-04T20:33:51.049204Z"
    },
    "scrolled": false
   },
   "outputs": [
    {
     "data": {
      "image/png": "[encoded data removed]",
      "text/plain": [
       "<PIL.Image.Image image mode=RGB size=664x400 at 0x132620438>"
      ]
     },
     "execution_count": 66,
     "metadata": {},
     "output_type": "execute_result"
    }
   ],
   "source": [
    "T.to_pil_image(generate_projections_img(model, img, cam, mask))"
   ]
  },
  {
   "cell_type": "markdown",
   "metadata": {
    "heading_collapsed": true
   },
   "source": [
    "### Overfit one batch"
   ]
  },
  {
   "cell_type": "code",
   "execution_count": 145,
   "metadata": {
    "ExecuteTime": {
     "end_time": "2019-12-04T12:40:17.492547Z",
     "start_time": "2019-12-04T12:39:40.981177Z"
    },
    "hidden": true
   },
   "outputs": [
    {
     "data": {
      "application/vnd.jupyter.widget-view+json": {
       "model_id": "35ac027baf0246dbb1f8e040000f0ff3",
       "version_major": 2,
       "version_minor": 0
      },
      "text/plain": [
       "HBox(children=(IntProgress(value=0, max=1000), HTML(value='')))"
      ]
     },
     "metadata": {},
     "output_type": "display_data"
    },
    {
     "name": "stdout",
     "output_type": "stream",
     "text": [
      "0 862.6303100585938\n",
      "1 851.0328369140625\n",
      "2 853.4484252929688\n",
      "3 841.5902709960938\n",
      "4 852.0188598632812\n",
      "5 842.69189453125\n",
      "6 841.8795776367188\n",
      "7 857.0084228515625\n",
      "8 852.7990112304688\n",
      "9 844.146484375\n",
      "10 853.1480712890625\n",
      "11 853.1217041015625\n",
      "12 841.2335205078125\n",
      "13 847.189453125\n",
      "14 845.0651245117188\n",
      "15 840.2427978515625\n",
      "16 844.7787475585938\n",
      "17 843.8718872070312\n",
      "18 841.1857299804688\n",
      "19 840.2328491210938\n",
      "20 843.7734375\n",
      "21 848.7786254882812\n",
      "22 851.2340087890625\n",
      "23 833.6390991210938\n",
      "24 841.78466796875\n",
      "25 843.8678588867188\n",
      "26 836.5084838867188\n",
      "27 845.5076293945312\n",
      "28 836.0003051757812\n",
      "29 840.1427612304688\n",
      "30 850.2421875\n",
      "31 848.0466918945312\n",
      "32 840.5307006835938\n",
      "33 843.4773559570312\n",
      "34 841.2628173828125\n",
      "35 834.8250122070312\n",
      "36 837.6051635742188\n",
      "37 830.99853515625\n",
      "38 834.689453125\n",
      "39 839.279296875\n",
      "40 835.4609375\n",
      "41 827.9777221679688\n",
      "42 833.4861450195312\n",
      "43 830.86669921875\n",
      "44 835.2279663085938\n",
      "45 826.7252197265625\n",
      "46 829.9605712890625\n",
      "47 825.6588745117188\n",
      "48 821.3147583007812\n",
      "49 828.6643676757812\n",
      "50 828.9635009765625\n",
      "51 819.7404174804688\n",
      "52 828.9993286132812\n",
      "53 826.6430053710938\n",
      "54 831.1882934570312\n",
      "55 830.7203369140625\n",
      "56 835.1209106445312\n",
      "57 826.79248046875\n",
      "58 825.1547241210938\n",
      "59 827.5148315429688\n",
      "60 822.9302978515625\n",
      "61 828.6150512695312\n",
      "62 821.47119140625\n",
      "63 817.4541015625\n",
      "64 815.4940185546875\n",
      "65 817.096923828125\n",
      "66 817.7213745117188\n",
      "67 816.7479858398438\n",
      "68 806.1988525390625\n",
      "69 809.9453735351562\n",
      "70 803.4052124023438\n",
      "71 799.6989135742188\n",
      "72 801.125244140625\n",
      "73 804.2820434570312\n",
      "74 784.6156616210938\n",
      "75 790.8714599609375\n",
      "76 791.7695922851562\n",
      "77 784.1220092773438\n",
      "78 791.6455078125\n",
      "79 782.1602172851562\n",
      "80 786.523681640625\n",
      "81 797.0197143554688\n",
      "82 797.4937133789062\n",
      "83 813.9754638671875\n",
      "84 799.9449462890625\n",
      "85 808.5764770507812\n",
      "86 813.8986206054688\n",
      "87 808.5054931640625\n",
      "88 816.39990234375\n",
      "89 819.30126953125\n",
      "90 811.2288818359375\n",
      "91 819.0298461914062\n",
      "92 814.9620361328125\n",
      "93 808.8118896484375\n",
      "94 816.145263671875\n",
      "95 813.445556640625\n",
      "96 821.3218994140625\n",
      "97 817.4411010742188\n",
      "98 810.0265502929688\n",
      "99 817.2069091796875\n",
      "100 812.8631591796875\n",
      "101 811.1571655273438\n",
      "102 806.7333984375\n",
      "103 816.4008178710938\n",
      "104 801.9238891601562\n",
      "105 811.4290161132812\n",
      "106 801.6054077148438\n",
      "107 803.3783569335938\n",
      "108 807.8058471679688\n",
      "109 799.9435424804688\n",
      "110 812.8523559570312\n",
      "111 807.45849609375\n",
      "112 800.6517944335938\n",
      "113 813.3272705078125\n",
      "114 810.8871459960938\n",
      "115 804.7737426757812\n",
      "116 793.7232055664062\n",
      "117 801.824462890625\n",
      "118 807.955078125\n",
      "119 804.48974609375\n",
      "120 805.6077880859375\n",
      "121 807.0368041992188\n",
      "122 797.9358520507812\n",
      "123 810.3305053710938\n",
      "124 806.0441284179688\n",
      "125 803.6967163085938\n",
      "126 803.82958984375\n",
      "127 798.8657836914062\n",
      "128 799.8910522460938\n",
      "129 802.8928833007812\n",
      "130 800.150390625\n",
      "131 798.8600463867188\n",
      "132 795.1586303710938\n",
      "133 796.9552612304688\n",
      "134 788.9913940429688\n",
      "135 792.8907470703125\n",
      "136 780.1527099609375\n",
      "137 780.6934204101562\n",
      "138 783.846435546875\n",
      "139 783.940673828125\n",
      "140 787.0590209960938\n",
      "141 777.9528198242188\n",
      "142 783.1781616210938\n",
      "143 788.6749267578125\n",
      "144 784.5556640625\n",
      "145 787.9158935546875\n",
      "146 779.7753295898438\n",
      "147 775.0839233398438\n",
      "148 767.3578491210938\n",
      "149 771.943359375\n",
      "150 770.4774780273438\n",
      "151 769.4948120117188\n",
      "152 763.6260986328125\n",
      "153 772.2455444335938\n",
      "154 755.8583374023438\n",
      "155 760.6500244140625\n"
     ]
    },
    {
     "ename": "KeyboardInterrupt",
     "evalue": "",
     "output_type": "error",
     "traceback": [
      "\u001b[0;31m---------------------------------------------------------------------------\u001b[0m",
      "\u001b[0;31mKeyboardInterrupt\u001b[0m                         Traceback (most recent call last)",
      "\u001b[0;32m<ipython-input-145-d8a2e0114ae3>\u001b[0m in \u001b[0;36m<module>\u001b[0;34m\u001b[0m\n\u001b[1;32m      8\u001b[0m \u001b[0;34m\u001b[0m\u001b[0m\n\u001b[1;32m      9\u001b[0m \u001b[0;32mfor\u001b[0m \u001b[0mi\u001b[0m \u001b[0;32min\u001b[0m \u001b[0mtqdm_notebook\u001b[0m\u001b[0;34m(\u001b[0m\u001b[0mrange\u001b[0m\u001b[0;34m(\u001b[0m\u001b[0;36m1000\u001b[0m\u001b[0;34m)\u001b[0m\u001b[0;34m)\u001b[0m\u001b[0;34m:\u001b[0m\u001b[0;34m\u001b[0m\u001b[0;34m\u001b[0m\u001b[0m\n\u001b[0;32m---> 10\u001b[0;31m     \u001b[0mproj\u001b[0m \u001b[0;34m=\u001b[0m \u001b[0mmodel\u001b[0m\u001b[0;34m(\u001b[0m\u001b[0mimgs\u001b[0m\u001b[0;34m,\u001b[0m \u001b[0mcams\u001b[0m\u001b[0;34m)\u001b[0m\u001b[0;34m\u001b[0m\u001b[0;34m\u001b[0m\u001b[0m\n\u001b[0m\u001b[1;32m     11\u001b[0m     \u001b[0mtarg\u001b[0m \u001b[0;34m=\u001b[0m \u001b[0mF\u001b[0m\u001b[0;34m.\u001b[0m\u001b[0minterpolate\u001b[0m\u001b[0;34m(\u001b[0m\u001b[0mmasks\u001b[0m\u001b[0;34m.\u001b[0m\u001b[0munsqueeze\u001b[0m\u001b[0;34m(\u001b[0m\u001b[0;36m0\u001b[0m\u001b[0;34m)\u001b[0m\u001b[0;34m,\u001b[0m \u001b[0mscale_factor\u001b[0m\u001b[0;34m=\u001b[0m\u001b[0;36m1\u001b[0m\u001b[0;34m/\u001b[0m\u001b[0;36m2\u001b[0m\u001b[0;34m,\u001b[0m \u001b[0mmode\u001b[0m\u001b[0;34m=\u001b[0m\u001b[0;34m'bilinear'\u001b[0m\u001b[0;34m,\u001b[0m \u001b[0malign_corners\u001b[0m\u001b[0;34m=\u001b[0m\u001b[0;32mFalse\u001b[0m\u001b[0;34m)\u001b[0m\u001b[0;34m.\u001b[0m\u001b[0msqueeze\u001b[0m\u001b[0;34m(\u001b[0m\u001b[0;34m)\u001b[0m\u001b[0;34m\u001b[0m\u001b[0;34m\u001b[0m\u001b[0m\n\u001b[1;32m     12\u001b[0m \u001b[0;34m\u001b[0m\u001b[0m\n",
      "\u001b[0;32m~/anaconda3/lib/python3.7/site-packages/torch/nn/modules/module.py\u001b[0m in \u001b[0;36m__call__\u001b[0;34m(self, *input, **kwargs)\u001b[0m\n\u001b[1;32m    545\u001b[0m             \u001b[0mresult\u001b[0m \u001b[0;34m=\u001b[0m \u001b[0mself\u001b[0m\u001b[0;34m.\u001b[0m\u001b[0m_slow_forward\u001b[0m\u001b[0;34m(\u001b[0m\u001b[0;34m*\u001b[0m\u001b[0minput\u001b[0m\u001b[0;34m,\u001b[0m \u001b[0;34m**\u001b[0m\u001b[0mkwargs\u001b[0m\u001b[0;34m)\u001b[0m\u001b[0;34m\u001b[0m\u001b[0;34m\u001b[0m\u001b[0m\n\u001b[1;32m    546\u001b[0m         \u001b[0;32melse\u001b[0m\u001b[0;34m:\u001b[0m\u001b[0;34m\u001b[0m\u001b[0;34m\u001b[0m\u001b[0m\n\u001b[0;32m--> 547\u001b[0;31m             \u001b[0mresult\u001b[0m \u001b[0;34m=\u001b[0m \u001b[0mself\u001b[0m\u001b[0;34m.\u001b[0m\u001b[0mforward\u001b[0m\u001b[0;34m(\u001b[0m\u001b[0;34m*\u001b[0m\u001b[0minput\u001b[0m\u001b[0;34m,\u001b[0m \u001b[0;34m**\u001b[0m\u001b[0mkwargs\u001b[0m\u001b[0;34m)\u001b[0m\u001b[0;34m\u001b[0m\u001b[0;34m\u001b[0m\u001b[0m\n\u001b[0m\u001b[1;32m    548\u001b[0m         \u001b[0;32mfor\u001b[0m \u001b[0mhook\u001b[0m \u001b[0;32min\u001b[0m \u001b[0mself\u001b[0m\u001b[0;34m.\u001b[0m\u001b[0m_forward_hooks\u001b[0m\u001b[0;34m.\u001b[0m\u001b[0mvalues\u001b[0m\u001b[0;34m(\u001b[0m\u001b[0;34m)\u001b[0m\u001b[0;34m:\u001b[0m\u001b[0;34m\u001b[0m\u001b[0;34m\u001b[0m\u001b[0m\n\u001b[1;32m    549\u001b[0m             \u001b[0mhook_result\u001b[0m \u001b[0;34m=\u001b[0m \u001b[0mhook\u001b[0m\u001b[0;34m(\u001b[0m\u001b[0mself\u001b[0m\u001b[0;34m,\u001b[0m \u001b[0minput\u001b[0m\u001b[0;34m,\u001b[0m \u001b[0mresult\u001b[0m\u001b[0;34m)\u001b[0m\u001b[0;34m\u001b[0m\u001b[0;34m\u001b[0m\u001b[0m\n",
      "\u001b[0;32m<ipython-input-143-1b000c148016>\u001b[0m in \u001b[0;36mforward\u001b[0;34m(self, imgs, cameras)\u001b[0m\n\u001b[1;32m     35\u001b[0m         \u001b[0mpc\u001b[0m    \u001b[0;34m=\u001b[0m \u001b[0mrepeat_tensor_batch\u001b[0m\u001b[0;34m(\u001b[0m\u001b[0mself\u001b[0m\u001b[0;34m.\u001b[0m\u001b[0mpc_dropout\u001b[0m\u001b[0;34m(\u001b[0m\u001b[0mpc\u001b[0m\u001b[0;34m)\u001b[0m\u001b[0;34m,\u001b[0m \u001b[0mnum_views\u001b[0m\u001b[0;34m)\u001b[0m\u001b[0;34m\u001b[0m\u001b[0;34m\u001b[0m\u001b[0m\n\u001b[1;32m     36\u001b[0m         \u001b[0mscale\u001b[0m \u001b[0;34m=\u001b[0m \u001b[0mrepeat_tensor_batch\u001b[0m\u001b[0;34m(\u001b[0m\u001b[0mscale\u001b[0m\u001b[0;34m,\u001b[0m \u001b[0mnum_views\u001b[0m\u001b[0;34m)\u001b[0m\u001b[0;34m\u001b[0m\u001b[0;34m\u001b[0m\u001b[0m\n\u001b[0;32m---> 37\u001b[0;31m         \u001b[0mproj\u001b[0m  \u001b[0;34m=\u001b[0m \u001b[0mself\u001b[0m\u001b[0;34m.\u001b[0m\u001b[0mpc_projection\u001b[0m\u001b[0;34m(\u001b[0m\u001b[0mpc\u001b[0m\u001b[0;34m,\u001b[0m \u001b[0mcameras\u001b[0m\u001b[0;34m,\u001b[0m \u001b[0mscale\u001b[0m\u001b[0;34m)\u001b[0m\u001b[0;34m\u001b[0m\u001b[0;34m\u001b[0m\u001b[0m\n\u001b[0m\u001b[1;32m     38\u001b[0m \u001b[0;34m\u001b[0m\u001b[0m\n\u001b[1;32m     39\u001b[0m         \u001b[0;31m# store for visualizations and tests\u001b[0m\u001b[0;34m\u001b[0m\u001b[0;34m\u001b[0m\u001b[0;34m\u001b[0m\u001b[0m\n",
      "\u001b[0;32m~/anaconda3/lib/python3.7/site-packages/torch/nn/modules/module.py\u001b[0m in \u001b[0;36m__call__\u001b[0;34m(self, *input, **kwargs)\u001b[0m\n\u001b[1;32m    545\u001b[0m             \u001b[0mresult\u001b[0m \u001b[0;34m=\u001b[0m \u001b[0mself\u001b[0m\u001b[0;34m.\u001b[0m\u001b[0m_slow_forward\u001b[0m\u001b[0;34m(\u001b[0m\u001b[0;34m*\u001b[0m\u001b[0minput\u001b[0m\u001b[0;34m,\u001b[0m \u001b[0;34m**\u001b[0m\u001b[0mkwargs\u001b[0m\u001b[0;34m)\u001b[0m\u001b[0;34m\u001b[0m\u001b[0;34m\u001b[0m\u001b[0m\n\u001b[1;32m    546\u001b[0m         \u001b[0;32melse\u001b[0m\u001b[0;34m:\u001b[0m\u001b[0;34m\u001b[0m\u001b[0;34m\u001b[0m\u001b[0m\n\u001b[0;32m--> 547\u001b[0;31m             \u001b[0mresult\u001b[0m \u001b[0;34m=\u001b[0m \u001b[0mself\u001b[0m\u001b[0;34m.\u001b[0m\u001b[0mforward\u001b[0m\u001b[0;34m(\u001b[0m\u001b[0;34m*\u001b[0m\u001b[0minput\u001b[0m\u001b[0;34m,\u001b[0m \u001b[0;34m**\u001b[0m\u001b[0mkwargs\u001b[0m\u001b[0;34m)\u001b[0m\u001b[0;34m\u001b[0m\u001b[0;34m\u001b[0m\u001b[0m\n\u001b[0m\u001b[1;32m    548\u001b[0m         \u001b[0;32mfor\u001b[0m \u001b[0mhook\u001b[0m \u001b[0;32min\u001b[0m \u001b[0mself\u001b[0m\u001b[0;34m.\u001b[0m\u001b[0m_forward_hooks\u001b[0m\u001b[0;34m.\u001b[0m\u001b[0mvalues\u001b[0m\u001b[0;34m(\u001b[0m\u001b[0;34m)\u001b[0m\u001b[0;34m:\u001b[0m\u001b[0;34m\u001b[0m\u001b[0;34m\u001b[0m\u001b[0m\n\u001b[1;32m    549\u001b[0m             \u001b[0mhook_result\u001b[0m \u001b[0;34m=\u001b[0m \u001b[0mhook\u001b[0m\u001b[0;34m(\u001b[0m\u001b[0mself\u001b[0m\u001b[0;34m,\u001b[0m \u001b[0minput\u001b[0m\u001b[0;34m,\u001b[0m \u001b[0mresult\u001b[0m\u001b[0;34m)\u001b[0m\u001b[0;34m\u001b[0m\u001b[0;34m\u001b[0m\u001b[0m\n",
      "\u001b[0;32m<ipython-input-10-4f1e8f1502bb>\u001b[0m in \u001b[0;36mforward\u001b[0;34m(self, pc, rotation, scale)\u001b[0m\n\u001b[1;32m     13\u001b[0m         \u001b[0msmooth\u001b[0m \u001b[0;34m=\u001b[0m \u001b[0mvoxels_smooth\u001b[0m\u001b[0;34m(\u001b[0m\u001b[0mvoxels\u001b[0m\u001b[0;34m,\u001b[0m \u001b[0mkernels\u001b[0m\u001b[0;34m=\u001b[0m\u001b[0msmoothing_kernel\u001b[0m\u001b[0;34m(\u001b[0m\u001b[0mself\u001b[0m\u001b[0;34m.\u001b[0m\u001b[0msigma\u001b[0m\u001b[0;34m,\u001b[0m \u001b[0mself\u001b[0m\u001b[0;34m.\u001b[0m\u001b[0mks\u001b[0m\u001b[0;34m)\u001b[0m\u001b[0;34m,\u001b[0m \u001b[0mscale\u001b[0m\u001b[0;34m=\u001b[0m\u001b[0mscale\u001b[0m\u001b[0;34m)\u001b[0m\u001b[0;34m\u001b[0m\u001b[0;34m\u001b[0m\u001b[0m\n\u001b[1;32m     14\u001b[0m         \u001b[0mprob\u001b[0m \u001b[0;34m=\u001b[0m \u001b[0mdrc_prob\u001b[0m\u001b[0;34m(\u001b[0m\u001b[0msmooth\u001b[0m\u001b[0;34m)\u001b[0m\u001b[0;34m\u001b[0m\u001b[0;34m\u001b[0m\u001b[0m\n\u001b[0;32m---> 15\u001b[0;31m         \u001b[0mproj\u001b[0m \u001b[0;34m=\u001b[0m \u001b[0mprob\u001b[0m\u001b[0;34m[\u001b[0m\u001b[0;34m:\u001b[0m\u001b[0;34m,\u001b[0m \u001b[0;34m:\u001b[0m\u001b[0;34m-\u001b[0m\u001b[0;36m1\u001b[0m\u001b[0;34m]\u001b[0m\u001b[0;34m.\u001b[0m\u001b[0msum\u001b[0m\u001b[0;34m(\u001b[0m\u001b[0;36m1\u001b[0m\u001b[0;34m)\u001b[0m\u001b[0;34m.\u001b[0m\u001b[0mflip\u001b[0m\u001b[0;34m(\u001b[0m\u001b[0;36m1\u001b[0m\u001b[0;34m)\u001b[0m\u001b[0;34m\u001b[0m\u001b[0;34m\u001b[0m\u001b[0m\n\u001b[0m\u001b[1;32m     16\u001b[0m \u001b[0;34m\u001b[0m\u001b[0m\n\u001b[1;32m     17\u001b[0m         \u001b[0;32mreturn\u001b[0m \u001b[0mproj\u001b[0m\u001b[0;34m\u001b[0m\u001b[0;34m\u001b[0m\u001b[0m\n",
      "\u001b[0;31mKeyboardInterrupt\u001b[0m: "
     ]
    }
   ],
   "source": [
    "opt = torch.optim.Adam(model.parameters(), lr=1e-4)\n",
    "torch.random.manual_seed(10)\n",
    "imgs, cams, masks = next(iter(train_dl))\n",
    "\n",
    "imgs = imgs.cuda()\n",
    "cams = cams.cuda()\n",
    "masks = masks.cuda()\n",
    "\n",
    "for i in tqdm_notebook(range(1000)):\n",
    "    proj = model(imgs, cams)\n",
    "    targ = F.interpolate(masks.unsqueeze(0), scale_factor=1/2, mode='bilinear', align_corners=False).squeeze()\n",
    "\n",
    "    loss = F.mse_loss(proj, targ, reduction='sum') / targ.size(0)\n",
    "    loss.backward()\n",
    "    opt.step()\n",
    "    opt.zero_grad()\n",
    "    \n",
    "    print(i, loss.item())"
   ]
  },
  {
   "cell_type": "code",
   "execution_count": 130,
   "metadata": {
    "hidden": true
   },
   "outputs": [],
   "source": [
    "proj = model(imgs, cams)"
   ]
  },
  {
   "cell_type": "code",
   "execution_count": 129,
   "metadata": {
    "hidden": true
   },
   "outputs": [],
   "source": [
    "model.pc_dropout.keep_prob = 0.8"
   ]
  },
  {
   "cell_type": "code",
   "execution_count": 131,
   "metadata": {
    "hidden": true
   },
   "outputs": [
    {
     "data": {
      "image/png": "[encoded data removed]",
      "text/plain": [
       "<Figure size 432x288 with 1 Axes>"
      ]
     },
     "metadata": {
      "needs_background": "light"
     },
     "output_type": "display_data"
    }
   ],
   "source": [
    "plt.imshow(proj[0].detach().cpu());"
   ]
  },
  {
   "cell_type": "code",
   "execution_count": 132,
   "metadata": {
    "hidden": true
   },
   "outputs": [
    {
     "data": {
      "image/png": "[encoded data removed]",
      "text/plain": [
       "<Figure size 432x288 with 1 Axes>"
      ]
     },
     "metadata": {
      "needs_background": "light"
     },
     "output_type": "display_data"
    }
   ],
   "source": [
    "plt.imshow(masks[0].detach().cpu());"
   ]
  },
  {
   "cell_type": "markdown",
   "metadata": {
    "heading_collapsed": true
   },
   "source": [
    "### Training loop"
   ]
  },
  {
   "cell_type": "code",
   "execution_count": 24,
   "metadata": {
    "hidden": true
   },
   "outputs": [],
   "source": [
    "from torch.utils.tensorboard import SummaryWriter"
   ]
  },
  {
   "cell_type": "code",
   "execution_count": 25,
   "metadata": {
    "hidden": true
   },
   "outputs": [],
   "source": [
    "def loopy(dl):\n",
    "    \"Loop through dataloader indefinitley\"\n",
    "    while True:\n",
    "        for o in dl: yield o"
   ]
  },
  {
   "cell_type": "code",
   "execution_count": 26,
   "metadata": {
    "hidden": true
   },
   "outputs": [],
   "source": [
    "def adjust_params(model, step, keep_prob=(0.07, 1.0), sigma=(3.0, 0.2)):\n",
    "    \"Schedule model parameters (dropout keep_prob and smoothing sigma)\"\n",
    "    assert 0 <= step <= 1\n",
    "\n",
    "    new_keep_prob = keep_prob[0] * (1 - step) + keep_prob[1] * step\n",
    "    new_sigma = sigma[0] * (1 - step) + sigma[1] * step\n",
    "    \n",
    "    model.pc_dropout.keep_prob = new_keep_prob\n",
    "    model.pc_projection.sigma  = torch.empty_like(model.pc_projection.sigma).fill_(new_sigma)"
   ]
  },
  {
   "cell_type": "code",
   "execution_count": 43,
   "metadata": {
    "ExecuteTime": {
     "end_time": "2019-12-04T20:32:17.981540Z",
     "start_time": "2019-12-04T20:32:17.935866Z"
    },
    "hidden": true
   },
   "outputs": [],
   "source": [
    "def generate_projections_img(model, img, cam, mask):\n",
    "    \"Generate grid with model projections, gt projections and input images\"\n",
    "    proj = model(img[0].unsqueeze(0), cam).cpu()\n",
    "    \n",
    "    grid = torch.cat([\n",
    "        F.interpolate(img, scale_factor=1/2, mode='bilinear', align_corners=True),\n",
    "        F.interpolate(mask.unsqueeze(1), scale_factor=1/2, mode='bilinear', align_corners=True).repeat(1, 3, 1, 1),\n",
    "        proj.unsqueeze(1).repeat(1, 3, 1, 1),\n",
    "    ])\n",
    "    \n",
    "    grid = make_grid(grid, nrow=img.size(0))\n",
    "    return F.interpolate(grid.unsqueeze(0), scale_factor=2).squeeze()"
   ]
  },
  {
   "cell_type": "code",
   "execution_count": 88,
   "metadata": {
    "hidden": true
   },
   "outputs": [],
   "source": [
    "def train(path, steps=100_000, eval_every=10_000, vis_every=500, batch_size=10, lr=1e-3, wd=0.01):\n",
    "    \"Train model for `steps` iterations. Save logs and checkpoints to `path` folder\"\n",
    "\n",
    "    # Prepare\n",
    "    try: \n",
    "        shutil.rmtree(path)\n",
    "    except Exception:\n",
    "        pass\n",
    "\n",
    "    path = Path(path)\n",
    "    path.mkdir(exist_ok=True, parents=True)\n",
    "    writer = SummaryWriter(log_dir=path/'logs')\n",
    "    pbar = tqdm_notebook(range(1, steps + 1), desc='Step')\n",
    "    cuda = torch.cuda.is_available()\n",
    "    torch.random.manual_seed(10)\n",
    "\n",
    "    # Data\n",
    "    train_ds = Shapenet(get_models(split=\"train\"), num_views=5)\n",
    "    valid_ds = Shapenet(get_models(split=\"valid\"), num_views=5)\n",
    "    train_dl = data.DataLoader(train_ds, batch_size=batch_size, shuffle=True, collate_fn=multi_view_collate, drop_last=True, pin_memory=True, num_workers=4)\n",
    "    valid_dl = data.DataLoader(valid_ds, batch_size=batch_size, shuffle=False, collate_fn=multi_view_collate, pin_memory=True)\n",
    "    train_dl = loopy(train_dl)\n",
    "\n",
    "    model = SimpleModel()\n",
    "    if cuda:\n",
    "        model = model.cuda()\n",
    "    \n",
    "    opt = torch.optim.AdamW(model.parameters(), lr=lr, weight_decay=wd)\n",
    "    for step in pbar:\n",
    "        model.train()\n",
    "        adjust_params(model, step / steps)    \n",
    "        t1 = time.perf_counter()\n",
    "        imgs, cams, masks = next(train_dl)\n",
    "        \n",
    "        if cuda:\n",
    "            imgs, cams, masks = imgs.cuda(), cams.cuda(), masks.cuda()\n",
    "        \n",
    "        proj  = model(imgs, cams)\n",
    "        masks = F.interpolate(masks.unsqueeze(1), scale_factor=1/2, mode='bilinear', align_corners=False).squeeze()\n",
    "        loss = F.mse_loss(proj, masks, reduction='sum') / masks.size(0)\n",
    "        \n",
    "        loss.backward()\n",
    "        opt.step()\n",
    "        opt.zero_grad()\n",
    "        dt = time.perf_counter() - t1\n",
    "  \n",
    "        pbar.set_postfix(loss=loss.item(), time=dt)\n",
    "\n",
    "        # logging\n",
    "        writer.add_scalar('loss/train', loss.item(), step)\n",
    "        writer.add_scalar('meta/sigma', model.pc_projection.sigma.item(), step)\n",
    "        writer.add_scalar('meta/keep_prob', model.pc_dropout.keep_prob, step)\n",
    "        \n",
    "        if step % vis_every == 0:\n",
    "            model.eval()\n",
    "            writer.add_image('renders', generate_projections_img(model, *valid_ds[10]), step)\n",
    "        \n",
    "        if step % eval_every == 0:\n",
    "            model.eval()\n",
    "            with torch.no_grad():\n",
    "                losses = []\n",
    "                for imgs, cams, masks in tqdm_notebook(valid_dl, leave=False):\n",
    "                    if cuda:\n",
    "                        imgs, cams, masks = imgs.cuda(), cams.cuda(), masks.cuda()\n",
    "                        \n",
    "                        proj  = model(imgs, cams)\n",
    "                        masks = F.interpolate(masks.unsqueeze(1), scale_factor=1/2, mode='bilinear', align_corners=False).squeeze()\n",
    "                        loss = F.mse_loss(proj, masks, reduction='sum') / masks.size(0)\n",
    "                        \n",
    "                        losses.append(loss.item())\n",
    "                loss = sum(losses) / len(losses)\n",
    "                writer.add_scalar('loss/valid', loss, step)\n",
    "\n",
    "                    \n",
    "            torch.save(\n",
    "                obj={\n",
    "                    'model': model.state_dict(),\n",
    "                    'opt': opt.state_dict(),\n",
    "                    'step': step,\n",
    "                }, \n",
    "                f=path/f\"model_{step}.pth\"\n",
    "            )\n",
    "\n",
    "            print(f\"After step {step}: valid_loss={loss}\")"
   ]
  },
  {
   "cell_type": "code",
   "execution_count": null,
   "metadata": {
    "hidden": true,
    "scrolled": false
   },
   "outputs": [
    {
     "data": {
      "application/vnd.jupyter.widget-view+json": {
       "model_id": "ee2c751be7a447819b2861132e9b68e7",
       "version_major": 2,
       "version_minor": 0
      },
      "text/plain": [
       "HBox(children=(IntProgress(value=0, description='Step', max=100000, style=ProgressStyle(description_width='ini…"
      ]
     },
     "metadata": {},
     "output_type": "display_data"
    },
    {
     "data": {
      "application/vnd.jupyter.widget-view+json": {
       "model_id": "",
       "version_major": 2,
       "version_minor": 0
      },
      "text/plain": [
       "HBox(children=(IntProgress(value=0, max=68), HTML(value='')))"
      ]
     },
     "metadata": {},
     "output_type": "display_data"
    },
    {
     "name": "stdout",
     "output_type": "stream",
     "text": [
      "After step 2000: valid_loss=363.7690418467802\n"
     ]
    },
    {
     "data": {
      "application/vnd.jupyter.widget-view+json": {
       "model_id": "",
       "version_major": 2,
       "version_minor": 0
      },
      "text/plain": [
       "HBox(children=(IntProgress(value=0, max=68), HTML(value='')))"
      ]
     },
     "metadata": {},
     "output_type": "display_data"
    },
    {
     "name": "stdout",
     "output_type": "stream",
     "text": [
      "After step 4000: valid_loss=309.61199322868794\n"
     ]
    },
    {
     "data": {
      "application/vnd.jupyter.widget-view+json": {
       "model_id": "",
       "version_major": 2,
       "version_minor": 0
      },
      "text/plain": [
       "HBox(children=(IntProgress(value=0, max=68), HTML(value='')))"
      ]
     },
     "metadata": {},
     "output_type": "display_data"
    },
    {
     "name": "stdout",
     "output_type": "stream",
     "text": [
      "After step 6000: valid_loss=283.0808233373305\n"
     ]
    },
    {
     "data": {
      "application/vnd.jupyter.widget-view+json": {
       "model_id": "",
       "version_major": 2,
       "version_minor": 0
      },
      "text/plain": [
       "HBox(children=(IntProgress(value=0, max=68), HTML(value='')))"
      ]
     },
     "metadata": {},
     "output_type": "display_data"
    },
    {
     "name": "stdout",
     "output_type": "stream",
     "text": [
      "After step 8000: valid_loss=266.8608200970818\n"
     ]
    },
    {
     "data": {
      "application/vnd.jupyter.widget-view+json": {
       "model_id": "",
       "version_major": 2,
       "version_minor": 0
      },
      "text/plain": [
       "HBox(children=(IntProgress(value=0, max=68), HTML(value='')))"
      ]
     },
     "metadata": {},
     "output_type": "display_data"
    },
    {
     "name": "stdout",
     "output_type": "stream",
     "text": [
      "After step 10000: valid_loss=249.98896632475012\n"
     ]
    },
    {
     "data": {
      "application/vnd.jupyter.widget-view+json": {
       "model_id": "",
       "version_major": 2,
       "version_minor": 0
      },
      "text/plain": [
       "HBox(children=(IntProgress(value=0, max=68), HTML(value='')))"
      ]
     },
     "metadata": {},
     "output_type": "display_data"
    },
    {
     "name": "stdout",
     "output_type": "stream",
     "text": [
      "After step 12000: valid_loss=234.5149937797995\n"
     ]
    },
    {
     "data": {
      "application/vnd.jupyter.widget-view+json": {
       "model_id": "",
       "version_major": 2,
       "version_minor": 0
      },
      "text/plain": [
       "HBox(children=(IntProgress(value=0, max=68), HTML(value='')))"
      ]
     },
     "metadata": {},
     "output_type": "display_data"
    },
    {
     "name": "stdout",
     "output_type": "stream",
     "text": [
      "After step 14000: valid_loss=232.55505191578584\n"
     ]
    },
    {
     "data": {
      "application/vnd.jupyter.widget-view+json": {
       "model_id": "",
       "version_major": 2,
       "version_minor": 0
      },
      "text/plain": [
       "HBox(children=(IntProgress(value=0, max=68), HTML(value='')))"
      ]
     },
     "metadata": {},
     "output_type": "display_data"
    },
    {
     "name": "stdout",
     "output_type": "stream",
     "text": [
      "After step 16000: valid_loss=217.41423595652861\n"
     ]
    },
    {
     "data": {
      "application/vnd.jupyter.widget-view+json": {
       "model_id": "",
       "version_major": 2,
       "version_minor": 0
      },
      "text/plain": [
       "HBox(children=(IntProgress(value=0, max=68), HTML(value='')))"
      ]
     },
     "metadata": {},
     "output_type": "display_data"
    },
    {
     "name": "stdout",
     "output_type": "stream",
     "text": [
      "After step 18000: valid_loss=212.9022061965045\n"
     ]
    },
    {
     "data": {
      "application/vnd.jupyter.widget-view+json": {
       "model_id": "",
       "version_major": 2,
       "version_minor": 0
      },
      "text/plain": [
       "HBox(children=(IntProgress(value=0, max=68), HTML(value='')))"
      ]
     },
     "metadata": {},
     "output_type": "display_data"
    },
    {
     "name": "stdout",
     "output_type": "stream",
     "text": [
      "After step 20000: valid_loss=207.95235667509192\n"
     ]
    },
    {
     "name": "stderr",
     "output_type": "stream",
     "text": [
      "Exception ignored in: <function _MultiProcessingDataLoaderIter.__del__ at 0x7f9a585ecae8>\n",
      "Traceback (most recent call last):\n",
      "  File \"/home/ubuntu/anaconda3/lib/python3.7/site-packages/torch/utils/data/dataloader.py\", line 926, in __del__\n",
      "    self._shutdown_workers()\n",
      "  File \"/home/ubuntu/anaconda3/lib/python3.7/site-packages/torch/utils/data/dataloader.py\", line 906, in _shutdown_workers\n",
      "    w.join()\n",
      "  File \"/home/ubuntu/anaconda3/lib/python3.7/multiprocessing/process.py\", line 138, in join\n",
      "    assert self._parent_pid == os.getpid(), 'can only join a child process'\n",
      "AssertionError: can only join a child process\n",
      "Exception ignored in: <function _MultiProcessingDataLoaderIter.__del__ at 0x7f9a585ecae8>\n",
      "Traceback (most recent call last):\n",
      "  File \"/home/ubuntu/anaconda3/lib/python3.7/site-packages/torch/utils/data/dataloader.py\", line 926, in __del__\n",
      "    self._shutdown_workers()\n",
      "  File \"/home/ubuntu/anaconda3/lib/python3.7/site-packages/torch/utils/data/dataloader.py\", line 906, in _shutdown_workers\n",
      "    w.join()\n",
      "  File \"/home/ubuntu/anaconda3/lib/python3.7/multiprocessing/process.py\", line 138, in join\n",
      "    assert self._parent_pid == os.getpid(), 'can only join a child process'\n",
      "AssertionError: can only join a child process\n",
      "Exception ignored in: <function _MultiProcessingDataLoaderIter.__del__ at 0x7f9a585ecae8>\n",
      "Traceback (most recent call last):\n",
      "  File \"/home/ubuntu/anaconda3/lib/python3.7/site-packages/torch/utils/data/dataloader.py\", line 926, in __del__\n",
      "    self._shutdown_workers()\n",
      "  File \"/home/ubuntu/anaconda3/lib/python3.7/site-packages/torch/utils/data/dataloader.py\", line 906, in _shutdown_workers\n",
      "    w.join()\n",
      "  File \"/home/ubuntu/anaconda3/lib/python3.7/multiprocessing/process.py\", line 138, in join\n",
      "    assert self._parent_pid == os.getpid(), 'can only join a child process'\n",
      "AssertionError: can only join a child process\n",
      "Exception ignored in: <function _MultiProcessingDataLoaderIter.__del__ at 0x7f9a585ecae8>\n",
      "Traceback (most recent call last):\n",
      "  File \"/home/ubuntu/anaconda3/lib/python3.7/site-packages/torch/utils/data/dataloader.py\", line 926, in __del__\n",
      "    self._shutdown_workers()\n",
      "  File \"/home/ubuntu/anaconda3/lib/python3.7/site-packages/torch/utils/data/dataloader.py\", line 906, in _shutdown_workers\n",
      "    w.join()\n",
      "  File \"/home/ubuntu/anaconda3/lib/python3.7/multiprocessing/process.py\", line 138, in join\n",
      "    assert self._parent_pid == os.getpid(), 'can only join a child process'\n",
      "AssertionError: can only join a child process\n",
      "Exception ignored in: <function _MultiProcessingDataLoaderIter.__del__ at 0x7f9a585ecae8>\n",
      "Traceback (most recent call last):\n",
      "  File \"/home/ubuntu/anaconda3/lib/python3.7/site-packages/torch/utils/data/dataloader.py\", line 926, in __del__\n",
      "    self._shutdown_workers()\n",
      "  File \"/home/ubuntu/anaconda3/lib/python3.7/site-packages/torch/utils/data/dataloader.py\", line 906, in _shutdown_workers\n",
      "    w.join()\n",
      "  File \"/home/ubuntu/anaconda3/lib/python3.7/multiprocessing/process.py\", line 138, in join\n",
      "    assert self._parent_pid == os.getpid(), 'can only join a child process'\n",
      "AssertionError: can only join a child process\n",
      "Exception ignored in: <function _MultiProcessingDataLoaderIter.__del__ at 0x7f9a585ecae8>\n",
      "Traceback (most recent call last):\n",
      "  File \"/home/ubuntu/anaconda3/lib/python3.7/site-packages/torch/utils/data/dataloader.py\", line 926, in __del__\n",
      "    self._shutdown_workers()\n",
      "  File \"/home/ubuntu/anaconda3/lib/python3.7/site-packages/torch/utils/data/dataloader.py\", line 906, in _shutdown_workers\n",
      "    w.join()\n",
      "  File \"/home/ubuntu/anaconda3/lib/python3.7/multiprocessing/process.py\", line 138, in join\n",
      "    assert self._parent_pid == os.getpid(), 'can only join a child process'\n",
      "AssertionError: can only join a child process\n",
      "Exception ignored in: <function _MultiProcessingDataLoaderIter.__del__ at 0x7f9a585ecae8>\n",
      "Traceback (most recent call last):\n",
      "  File \"/home/ubuntu/anaconda3/lib/python3.7/site-packages/torch/utils/data/dataloader.py\", line 926, in __del__\n",
      "    self._shutdown_workers()\n",
      "  File \"/home/ubuntu/anaconda3/lib/python3.7/site-packages/torch/utils/data/dataloader.py\", line 906, in _shutdown_workers\n",
      "    w.join()\n",
      "  File \"/home/ubuntu/anaconda3/lib/python3.7/multiprocessing/process.py\", line 138, in join\n",
      "    assert self._parent_pid == os.getpid(), 'can only join a child process'\n",
      "AssertionError: can only join a child process\n",
      "Exception ignored in: <function _MultiProcessingDataLoaderIter.__del__ at 0x7f9a585ecae8>\n",
      "Traceback (most recent call last):\n",
      "  File \"/home/ubuntu/anaconda3/lib/python3.7/site-packages/torch/utils/data/dataloader.py\", line 926, in __del__\n",
      "    self._shutdown_workers()\n",
      "  File \"/home/ubuntu/anaconda3/lib/python3.7/site-packages/torch/utils/data/dataloader.py\", line 906, in _shutdown_workers\n",
      "    w.join()\n",
      "  File \"/home/ubuntu/anaconda3/lib/python3.7/multiprocessing/process.py\", line 138, in join\n",
      "    assert self._parent_pid == os.getpid(), 'can only join a child process'\n",
      "AssertionError: can only join a child process\n",
      "Exception ignored in: <function _MultiProcessingDataLoaderIter.__del__ at 0x7f9a585ecae8>\n",
      "Traceback (most recent call last):\n",
      "  File \"/home/ubuntu/anaconda3/lib/python3.7/site-packages/torch/utils/data/dataloader.py\", line 926, in __del__\n",
      "    self._shutdown_workers()\n",
      "  File \"/home/ubuntu/anaconda3/lib/python3.7/site-packages/torch/utils/data/dataloader.py\", line 906, in _shutdown_workers\n",
      "    w.join()\n",
      "  File \"/home/ubuntu/anaconda3/lib/python3.7/multiprocessing/process.py\", line 138, in join\n",
      "    assert self._parent_pid == os.getpid(), 'can only join a child process'\n",
      "AssertionError: can only join a child process\n",
      "Exception ignored in: <function _MultiProcessingDataLoaderIter.__del__ at 0x7f9a585ecae8>\n",
      "Traceback (most recent call last):\n",
      "  File \"/home/ubuntu/anaconda3/lib/python3.7/site-packages/torch/utils/data/dataloader.py\", line 926, in __del__\n",
      "    self._shutdown_workers()\n",
      "  File \"/home/ubuntu/anaconda3/lib/python3.7/site-packages/torch/utils/data/dataloader.py\", line 906, in _shutdown_workers\n",
      "    w.join()\n",
      "  File \"/home/ubuntu/anaconda3/lib/python3.7/multiprocessing/process.py\", line 138, in join\n",
      "    assert self._parent_pid == os.getpid(), 'can only join a child process'\n",
      "AssertionError: can only join a child process\n",
      "Exception ignored in: <function _MultiProcessingDataLoaderIter.__del__ at 0x7f9a585ecae8>\n",
      "Traceback (most recent call last):\n",
      "  File \"/home/ubuntu/anaconda3/lib/python3.7/site-packages/torch/utils/data/dataloader.py\", line 926, in __del__\n",
      "    self._shutdown_workers()\n",
      "  File \"/home/ubuntu/anaconda3/lib/python3.7/site-packages/torch/utils/data/dataloader.py\", line 906, in _shutdown_workers\n",
      "    w.join()\n",
      "  File \"/home/ubuntu/anaconda3/lib/python3.7/multiprocessing/process.py\", line 138, in join\n",
      "    assert self._parent_pid == os.getpid(), 'can only join a child process'\n",
      "AssertionError: can only join a child process\n",
      "Exception ignored in: <function _MultiProcessingDataLoaderIter.__del__ at 0x7f9a585ecae8>\n",
      "Traceback (most recent call last):\n",
      "  File \"/home/ubuntu/anaconda3/lib/python3.7/site-packages/torch/utils/data/dataloader.py\", line 926, in __del__\n",
      "    self._shutdown_workers()\n",
      "  File \"/home/ubuntu/anaconda3/lib/python3.7/site-packages/torch/utils/data/dataloader.py\", line 906, in _shutdown_workers\n",
      "    w.join()\n",
      "  File \"/home/ubuntu/anaconda3/lib/python3.7/multiprocessing/process.py\", line 138, in join\n",
      "    assert self._parent_pid == os.getpid(), 'can only join a child process'\n",
      "AssertionError: can only join a child process\n",
      "Exception ignored in: <function _MultiProcessingDataLoaderIter.__del__ at 0x7f9a585ecae8>\n",
      "Traceback (most recent call last):\n",
      "  File \"/home/ubuntu/anaconda3/lib/python3.7/site-packages/torch/utils/data/dataloader.py\", line 926, in __del__\n",
      "    self._shutdown_workers()\n",
      "  File \"/home/ubuntu/anaconda3/lib/python3.7/site-packages/torch/utils/data/dataloader.py\", line 906, in _shutdown_workers\n",
      "    w.join()\n",
      "  File \"/home/ubuntu/anaconda3/lib/python3.7/multiprocessing/process.py\", line 138, in join\n",
      "    assert self._parent_pid == os.getpid(), 'can only join a child process'\n",
      "AssertionError: can only join a child process\n",
      "Exception ignored in: <function _MultiProcessingDataLoaderIter.__del__ at 0x7f9a585ecae8>\n",
      "Traceback (most recent call last):\n",
      "  File \"/home/ubuntu/anaconda3/lib/python3.7/site-packages/torch/utils/data/dataloader.py\", line 926, in __del__\n",
      "    self._shutdown_workers()\n",
      "  File \"/home/ubuntu/anaconda3/lib/python3.7/site-packages/torch/utils/data/dataloader.py\", line 906, in _shutdown_workers\n",
      "    w.join()\n",
      "  File \"/home/ubuntu/anaconda3/lib/python3.7/multiprocessing/process.py\", line 138, in join\n",
      "    assert self._parent_pid == os.getpid(), 'can only join a child process'\n",
      "AssertionError: can only join a child process\n",
      "Exception ignored in: <function _MultiProcessingDataLoaderIter.__del__ at 0x7f9a585ecae8>\n",
      "Traceback (most recent call last):\n",
      "  File \"/home/ubuntu/anaconda3/lib/python3.7/site-packages/torch/utils/data/dataloader.py\", line 926, in __del__\n",
      "    self._shutdown_workers()\n",
      "  File \"/home/ubuntu/anaconda3/lib/python3.7/site-packages/torch/utils/data/dataloader.py\", line 906, in _shutdown_workers\n",
      "    w.join()\n",
      "  File \"/home/ubuntu/anaconda3/lib/python3.7/multiprocessing/process.py\", line 138, in join\n",
      "    assert self._parent_pid == os.getpid(), 'can only join a child process'\n",
      "AssertionError: can only join a child process\n",
      "Exception ignored in: <function _MultiProcessingDataLoaderIter.__del__ at 0x7f9a585ecae8>\n",
      "Traceback (most recent call last):\n",
      "  File \"/home/ubuntu/anaconda3/lib/python3.7/site-packages/torch/utils/data/dataloader.py\", line 926, in __del__\n",
      "    self._shutdown_workers()\n",
      "  File \"/home/ubuntu/anaconda3/lib/python3.7/site-packages/torch/utils/data/dataloader.py\", line 906, in _shutdown_workers\n",
      "    w.join()\n",
      "  File \"/home/ubuntu/anaconda3/lib/python3.7/multiprocessing/process.py\", line 138, in join\n",
      "    assert self._parent_pid == os.getpid(), 'can only join a child process'\n",
      "AssertionError: can only join a child process\n"
     ]
    },
    {
     "data": {
      "application/vnd.jupyter.widget-view+json": {
       "model_id": "",
       "version_major": 2,
       "version_minor": 0
      },
      "text/plain": [
       "HBox(children=(IntProgress(value=0, max=68), HTML(value='')))"
      ]
     },
     "metadata": {},
     "output_type": "display_data"
    },
    {
     "name": "stdout",
     "output_type": "stream",
     "text": [
      "After step 22000: valid_loss=207.03260444192324\n"
     ]
    },
    {
     "data": {
      "application/vnd.jupyter.widget-view+json": {
       "model_id": "",
       "version_major": 2,
       "version_minor": 0
      },
      "text/plain": [
       "HBox(children=(IntProgress(value=0, max=68), HTML(value='')))"
      ]
     },
     "metadata": {},
     "output_type": "display_data"
    },
    {
     "name": "stdout",
     "output_type": "stream",
     "text": [
      "After step 24000: valid_loss=199.57867274564856\n"
     ]
    },
    {
     "data": {
      "application/vnd.jupyter.widget-view+json": {
       "model_id": "",
       "version_major": 2,
       "version_minor": 0
      },
      "text/plain": [
       "HBox(children=(IntProgress(value=0, max=68), HTML(value='')))"
      ]
     },
     "metadata": {},
     "output_type": "display_data"
    },
    {
     "name": "stdout",
     "output_type": "stream",
     "text": [
      "After step 26000: valid_loss=197.17676566628847\n"
     ]
    },
    {
     "data": {
      "application/vnd.jupyter.widget-view+json": {
       "model_id": "",
       "version_major": 2,
       "version_minor": 0
      },
      "text/plain": [
       "HBox(children=(IntProgress(value=0, max=68), HTML(value='')))"
      ]
     },
     "metadata": {},
     "output_type": "display_data"
    },
    {
     "name": "stdout",
     "output_type": "stream",
     "text": [
      "After step 28000: valid_loss=197.36286230648264\n"
     ]
    },
    {
     "data": {
      "application/vnd.jupyter.widget-view+json": {
       "model_id": "",
       "version_major": 2,
       "version_minor": 0
      },
      "text/plain": [
       "HBox(children=(IntProgress(value=0, max=68), HTML(value='')))"
      ]
     },
     "metadata": {},
     "output_type": "display_data"
    },
    {
     "name": "stdout",
     "output_type": "stream",
     "text": [
      "After step 30000: valid_loss=191.2305959813735\n"
     ]
    },
    {
     "data": {
      "application/vnd.jupyter.widget-view+json": {
       "model_id": "",
       "version_major": 2,
       "version_minor": 0
      },
      "text/plain": [
       "HBox(children=(IntProgress(value=0, max=68), HTML(value='')))"
      ]
     },
     "metadata": {},
     "output_type": "display_data"
    },
    {
     "name": "stdout",
     "output_type": "stream",
     "text": [
      "After step 32000: valid_loss=187.73735517614028\n"
     ]
    },
    {
     "data": {
      "application/vnd.jupyter.widget-view+json": {
       "model_id": "",
       "version_major": 2,
       "version_minor": 0
      },
      "text/plain": [
       "HBox(children=(IntProgress(value=0, max=68), HTML(value='')))"
      ]
     },
     "metadata": {},
     "output_type": "display_data"
    },
    {
     "name": "stdout",
     "output_type": "stream",
     "text": [
      "After step 34000: valid_loss=192.5509131936466\n"
     ]
    },
    {
     "data": {
      "application/vnd.jupyter.widget-view+json": {
       "model_id": "",
       "version_major": 2,
       "version_minor": 0
      },
      "text/plain": [
       "HBox(children=(IntProgress(value=0, max=68), HTML(value='')))"
      ]
     },
     "metadata": {},
     "output_type": "display_data"
    },
    {
     "name": "stdout",
     "output_type": "stream",
     "text": [
      "After step 36000: valid_loss=184.3587606093463\n"
     ]
    },
    {
     "data": {
      "application/vnd.jupyter.widget-view+json": {
       "model_id": "",
       "version_major": 2,
       "version_minor": 0
      },
      "text/plain": [
       "HBox(children=(IntProgress(value=0, max=68), HTML(value='')))"
      ]
     },
     "metadata": {},
     "output_type": "display_data"
    },
    {
     "name": "stdout",
     "output_type": "stream",
     "text": [
      "After step 38000: valid_loss=195.30085328046013\n"
     ]
    },
    {
     "data": {
      "application/vnd.jupyter.widget-view+json": {
       "model_id": "",
       "version_major": 2,
       "version_minor": 0
      },
      "text/plain": [
       "HBox(children=(IntProgress(value=0, max=68), HTML(value='')))"
      ]
     },
     "metadata": {},
     "output_type": "display_data"
    },
    {
     "name": "stdout",
     "output_type": "stream",
     "text": [
      "After step 40000: valid_loss=175.77033906824448\n"
     ]
    },
    {
     "data": {
      "application/vnd.jupyter.widget-view+json": {
       "model_id": "",
       "version_major": 2,
       "version_minor": 0
      },
      "text/plain": [
       "HBox(children=(IntProgress(value=0, max=68), HTML(value='')))"
      ]
     },
     "metadata": {},
     "output_type": "display_data"
    },
    {
     "name": "stdout",
     "output_type": "stream",
     "text": [
      "After step 42000: valid_loss=177.0724722918342\n"
     ]
    },
    {
     "data": {
      "application/vnd.jupyter.widget-view+json": {
       "model_id": "",
       "version_major": 2,
       "version_minor": 0
      },
      "text/plain": [
       "HBox(children=(IntProgress(value=0, max=68), HTML(value='')))"
      ]
     },
     "metadata": {},
     "output_type": "display_data"
    },
    {
     "name": "stdout",
     "output_type": "stream",
     "text": [
      "After step 44000: valid_loss=173.28703173469094\n"
     ]
    },
    {
     "data": {
      "application/vnd.jupyter.widget-view+json": {
       "model_id": "",
       "version_major": 2,
       "version_minor": 0
      },
      "text/plain": [
       "HBox(children=(IntProgress(value=0, max=68), HTML(value='')))"
      ]
     },
     "metadata": {},
     "output_type": "display_data"
    },
    {
     "name": "stdout",
     "output_type": "stream",
     "text": [
      "After step 46000: valid_loss=170.22766674266143\n"
     ]
    },
    {
     "data": {
      "application/vnd.jupyter.widget-view+json": {
       "model_id": "",
       "version_major": 2,
       "version_minor": 0
      },
      "text/plain": [
       "HBox(children=(IntProgress(value=0, max=68), HTML(value='')))"
      ]
     },
     "metadata": {},
     "output_type": "display_data"
    },
    {
     "name": "stdout",
     "output_type": "stream",
     "text": [
      "After step 48000: valid_loss=170.8019676208496\n"
     ]
    },
    {
     "data": {
      "application/vnd.jupyter.widget-view+json": {
       "model_id": "",
       "version_major": 2,
       "version_minor": 0
      },
      "text/plain": [
       "HBox(children=(IntProgress(value=0, max=68), HTML(value='')))"
      ]
     },
     "metadata": {},
     "output_type": "display_data"
    },
    {
     "name": "stdout",
     "output_type": "stream",
     "text": [
      "After step 50000: valid_loss=168.25715480131262\n"
     ]
    },
    {
     "data": {
      "application/vnd.jupyter.widget-view+json": {
       "model_id": "",
       "version_major": 2,
       "version_minor": 0
      },
      "text/plain": [
       "HBox(children=(IntProgress(value=0, max=68), HTML(value='')))"
      ]
     },
     "metadata": {},
     "output_type": "display_data"
    },
    {
     "name": "stdout",
     "output_type": "stream",
     "text": [
      "After step 52000: valid_loss=168.72009636374082\n"
     ]
    },
    {
     "data": {
      "application/vnd.jupyter.widget-view+json": {
       "model_id": "",
       "version_major": 2,
       "version_minor": 0
      },
      "text/plain": [
       "HBox(children=(IntProgress(value=0, max=68), HTML(value='')))"
      ]
     },
     "metadata": {},
     "output_type": "display_data"
    },
    {
     "name": "stdout",
     "output_type": "stream",
     "text": [
      "After step 54000: valid_loss=163.13306527979233\n"
     ]
    }
   ],
   "source": [
    "train('camera_supervision', lr=1e-4, eval_every=2000, vis_every=500)"
   ]
  },
  {
   "cell_type": "code",
   "execution_count": null,
   "metadata": {
    "hidden": true
   },
   "outputs": [],
   "source": []
  }
 ],
 "metadata": {
  "kernelspec": {
   "display_name": "Python 3",
   "language": "python",
   "name": "python3"
  },
  "language_info": {
   "codemirror_mode": {
    "name": "ipython",
    "version": 3
   },
   "file_extension": ".py",
   "mimetype": "text/x-python",
   "name": "python",
   "nbconvert_exporter": "python",
   "pygments_lexer": "ipython3",
   "version": "3.7.3"
  },
  "varInspector": {
   "cols": {
    "lenName": 16,
    "lenType": 16,
    "lenVar": 40
   },
   "kernels_config": {
    "python": {
     "delete_cmd_postfix": "",
     "delete_cmd_prefix": "del ",
     "library": "var_list.py",
     "varRefreshCmd": "print(var_dic_list())"
    },
    "r": {
     "delete_cmd_postfix": ") ",
     "delete_cmd_prefix": "rm(",
     "library": "var_list.r",
     "varRefreshCmd": "cat(var_dic_list()) "
    }
   },
   "types_to_exclude": [
    "module",
    "function",
    "builtin_function_or_method",
    "instance",
    "_Feature"
   ],
   "window_display": false
  }
 },
 "nbformat": 4,
 "nbformat_minor": 2
}
